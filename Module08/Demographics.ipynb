{
 "cells": [
  {
   "cell_type": "markdown",
   "metadata": {},
   "source": [
    "Library Imports\n",
    "Importing the CSV and OS libraries. The CSV Library will let us read CSV files easily and the OS library we allow us to look for files without external user uploads."
   ]
  },
  {
   "cell_type": "code",
   "execution_count": 1,
   "metadata": {},
   "outputs": [],
   "source": [
    "import csv\n",
    "import os"
   ]
  },
  {
   "cell_type": "markdown",
   "metadata": {},
   "source": [
    "Function Definition\n",
    "Two functions are defined. print_header() is a funciton to print the simple header of the \"app.\" get_filename() is a function to find the path and filename of the desired patient file."
   ]
  },
  {
   "cell_type": "code",
   "execution_count": 2,
   "metadata": {},
   "outputs": [],
   "source": [
    "def print_header():\n",
    "    print('---------------------------------')\n",
    "    print('       Process Demographics')\n",
    "    print('---------------------------------')\n",
    "    print()\n",
    "    \n",
    "def get_filename():\n",
    "\n",
    "    # Initializes the variable\n",
    "    filename = None\n",
    "\n",
    "    # User Validation of the File\n",
    "    while filename is None:\n",
    "\n",
    "        filename = input('What is the /path/to/the/file? ')\n",
    "\n",
    "        # Check if the filename exists.\n",
    "        if not os.path.exists(filename):\n",
    "            print('That file could not be found. Try again.')\n",
    "            filename = None\n",
    "\n",
    "    return filename"
   ]
  },
  {
   "cell_type": "code",
   "execution_count": 3,
   "metadata": {},
   "outputs": [
    {
     "name": "stdout",
     "output_type": "stream",
     "text": [
      "---------------------------------\n",
      "       Process Demographics\n",
      "---------------------------------\n",
      "\n",
      "What is the /path/to/the/file? pat_data.csv\n"
     ]
    }
   ],
   "source": [
    "print_header()\n",
    "filename = get_filename()"
   ]
  },
  {
   "cell_type": "markdown",
   "metadata": {},
   "source": [
    "Exclusion Criteria\n",
    "sex is the target sex of patient (male, female, or both?)\n",
    "minAge is the minimum age of the patient\n",
    "maxAge is the maximum age of the patient\n",
    "minInfection is the minimum infecntion length \n",
    "maxInfecntion is the maximum infection length\n",
    "therapy is a binary variable on if the patient has been on therapy\n",
    "coinfection is a binary (Y/N) if the patients has experience a coinfection."
   ]
  },
  {
   "cell_type": "code",
   "execution_count": 7,
   "metadata": {},
   "outputs": [],
   "source": [
    "sex = \"Male\"                # What is the target sex? (Male/Female/Both)\n",
    "minAge = int(18)            # What is the min age? (Enter a number)\n",
    "maxAge = int(47)            # What is the max age? (Enter a number)\n",
    "minInfection = int(0)       # What is the min infection length? (Enter a number) \n",
    "maxInfection = int(24)      # What is the max infection length? (Enter a number) '\n",
    "therapy = \"No\"              # Should the patients be on therapy? (Yes/No) \n",
    "coinfection = \"Yes\"         # Should the patient have a coinfection? (Yes/No)"
   ]
  },
  {
   "cell_type": "markdown",
   "metadata": {},
   "source": [
    "For Loop Explanation\n",
    "While opening the file, the code will examine each line in the file line by line and examine the patient data. Then in each row, the code will go through the exclusion criteria. If it passes, the patient is counted towards the end. If it is not, the patient is ignored. This is done through the nested for loop."
   ]
  },
  {
   "cell_type": "code",
   "execution_count": 1,
   "metadata": {},
   "outputs": [
    {
     "ename": "NameError",
     "evalue": "name 'filename' is not defined",
     "output_type": "error",
     "traceback": [
      "\u001b[0;31m---------------------------------------------------------------------------\u001b[0m",
      "\u001b[0;31mNameError\u001b[0m                                 Traceback (most recent call last)",
      "\u001b[0;32m<ipython-input-1-e0a0227129a3>\u001b[0m in \u001b[0;36m<module>\u001b[0;34m\u001b[0m\n\u001b[0;32m----> 1\u001b[0;31m \u001b[0;32mwith\u001b[0m \u001b[0mopen\u001b[0m\u001b[0;34m(\u001b[0m\u001b[0mfilename\u001b[0m\u001b[0;34m)\u001b[0m \u001b[0;32mas\u001b[0m \u001b[0mhandle\u001b[0m\u001b[0;34m:\u001b[0m\u001b[0;34m\u001b[0m\u001b[0m\n\u001b[0m\u001b[1;32m      2\u001b[0m     \u001b[0mreader\u001b[0m \u001b[0;34m=\u001b[0m \u001b[0mcsv\u001b[0m\u001b[0;34m.\u001b[0m\u001b[0mDictReader\u001b[0m\u001b[0;34m(\u001b[0m\u001b[0mhandle\u001b[0m\u001b[0;34m)\u001b[0m\u001b[0;34m\u001b[0m\u001b[0m\n\u001b[1;32m      3\u001b[0m     \u001b[0mpat_num\u001b[0m \u001b[0;34m=\u001b[0m \u001b[0;36m0\u001b[0m\u001b[0;34m\u001b[0m\u001b[0m\n\u001b[1;32m      4\u001b[0m     \u001b[0mviablePat\u001b[0m \u001b[0;34m=\u001b[0m \u001b[0;34m[\u001b[0m\u001b[0;34m]\u001b[0m\u001b[0;34m\u001b[0m\u001b[0m\n\u001b[1;32m      5\u001b[0m \u001b[0;34m\u001b[0m\u001b[0m\n",
      "\u001b[0;31mNameError\u001b[0m: name 'filename' is not defined"
     ]
    }
   ],
   "source": [
    "with open(filename) as handle:\n",
    "    reader = csv.DictReader(handle)\n",
    "    pat_num = 0\n",
    "    viablePat = []\n",
    "\n",
    "    #Examines each row\n",
    "    for row in reader:\n",
    "        pat_sex =  row['SEX']\n",
    "        pat_age = int(row['AGE'])\n",
    "        pat_infection = int(row['INFECTION_LENGTH'])\n",
    "        pat_therapy = row['ON_THERAPY']\n",
    "        pat_coinfection = row['COINFECTION']\n",
    "\n",
    "        # Separate out the long logic for clarity\n",
    "        match_age = (pat_age > minAge) and (pat_age < maxAge)\n",
    "        match_infection = (pat_infection >  minInfection) and (pat_infection < maxInfection)\n",
    "\n",
    "\n",
    "        #Counting\n",
    "        if match_age:\n",
    "            if match_infection:\n",
    "                if pat_sex == sex:\n",
    "                    if pat_therapy == therapy:\n",
    "                        if pat_coinfection == coinfection:\n",
    "                            pat_num += 1\n",
    "                            viablePat.append(row)"
   ]
  },
  {
   "cell_type": "markdown",
   "metadata": {},
   "source": [
    "This code prints out the exclusion criteria and the number of eligible patients."
   ]
  },
  {
   "cell_type": "code",
   "execution_count": null,
   "metadata": {},
   "outputs": [],
   "source": [
    "print('Based on the following criteria:')\n",
    "print(' - Age: [%i, %i]' % (minAge, maxAge))\n",
    "print(' - Length of infection: [%i, %i]' %(minInfection, maxInfection))\n",
    "print(' - Sex: %s' % sex)\n",
    "print(' - On Therapy: %s' % therapy)\n",
    "print(' - Coinfection: %s' % coinfection)\n",
    "\n",
    "print('There are %i eligible patients' % pat_num)"
   ]
  }
 ],
 "metadata": {
  "kernelspec": {
   "display_name": "Python 3",
   "language": "python",
   "name": "python3"
  },
  "language_info": {
   "codemirror_mode": {
    "name": "ipython",
    "version": 3
   },
   "file_extension": ".py",
   "mimetype": "text/x-python",
   "name": "python",
   "nbconvert_exporter": "python",
   "pygments_lexer": "ipython3",
   "version": "3.6.1"
  }
 },
 "nbformat": 4,
 "nbformat_minor": 2
}
