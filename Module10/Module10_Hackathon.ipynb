{
 "cells": [
  {
   "cell_type": "markdown",
   "metadata": {},
   "source": [
    "# Modulue 10 - Hackathon\n",
    "Examining Drug-Accident Data in Connecticut"
   ]
  },
  {
   "cell_type": "markdown",
   "metadata": {},
   "source": [
    "The rise of drug-related deaths has been an unfortunate trend in America. However, it seems unwise to give a complicated problem a simple solution. The idea of addiction is not simply the availibility of opioids - it can be due to a myraid of factors due to the complexity of mental health. It is the hope of this data analysis to see if there are any physiological factors that may be affecting the rise of overdose deaths in America such as gender or age. "
   ]
  },
  {
   "cell_type": "code",
   "execution_count": 82,
   "metadata": {},
   "outputs": [],
   "source": [
    "import pandas as pd\n",
    "import numpy as np\n",
    "import matplotlib.pyplot as plt\n",
    "import seaborn as sbn\n",
    "\n",
    "%matplotlib inline"
   ]
  },
  {
   "cell_type": "code",
   "execution_count": 83,
   "metadata": {},
   "outputs": [
    {
     "data": {
      "text/html": [
       "<div>\n",
       "<style scoped>\n",
       "    .dataframe tbody tr th:only-of-type {\n",
       "        vertical-align: middle;\n",
       "    }\n",
       "\n",
       "    .dataframe tbody tr th {\n",
       "        vertical-align: top;\n",
       "    }\n",
       "\n",
       "    .dataframe thead th {\n",
       "        text-align: right;\n",
       "    }\n",
       "</style>\n",
       "<table border=\"1\" class=\"dataframe\">\n",
       "  <thead>\n",
       "    <tr style=\"text-align: right;\">\n",
       "      <th></th>\n",
       "      <th>CaseNumber</th>\n",
       "      <th>Date</th>\n",
       "      <th>Sex</th>\n",
       "      <th>Race</th>\n",
       "      <th>Age</th>\n",
       "      <th>Residence City</th>\n",
       "      <th>Residence State</th>\n",
       "      <th>Residence County</th>\n",
       "      <th>Death City</th>\n",
       "      <th>Death State</th>\n",
       "      <th>...</th>\n",
       "      <th>Benzodiazepine</th>\n",
       "      <th>Methadone</th>\n",
       "      <th>Amphet</th>\n",
       "      <th>Tramad</th>\n",
       "      <th>Morphine (not heroin)</th>\n",
       "      <th>Other</th>\n",
       "      <th>Any Opioid</th>\n",
       "      <th>MannerofDeath</th>\n",
       "      <th>AmendedMannerofDeath</th>\n",
       "      <th>DeathLoc</th>\n",
       "    </tr>\n",
       "  </thead>\n",
       "  <tbody>\n",
       "    <tr>\n",
       "      <td>0</td>\n",
       "      <td>13-16336</td>\n",
       "      <td>11/09/2013</td>\n",
       "      <td>Female</td>\n",
       "      <td>White</td>\n",
       "      <td>53.0</td>\n",
       "      <td>GROTON</td>\n",
       "      <td>NaN</td>\n",
       "      <td>NEW LONDON</td>\n",
       "      <td>GROTON</td>\n",
       "      <td>NaN</td>\n",
       "      <td>...</td>\n",
       "      <td>Y</td>\n",
       "      <td>NaN</td>\n",
       "      <td>NaN</td>\n",
       "      <td>NaN</td>\n",
       "      <td>NaN</td>\n",
       "      <td>NaN</td>\n",
       "      <td>NaN</td>\n",
       "      <td>Accident</td>\n",
       "      <td>NaN</td>\n",
       "      <td>GROTON, CT\\n(41.343693, -72.07877)</td>\n",
       "    </tr>\n",
       "    <tr>\n",
       "      <td>1</td>\n",
       "      <td>12-18447</td>\n",
       "      <td>12/29/2012</td>\n",
       "      <td>Male</td>\n",
       "      <td>White</td>\n",
       "      <td>30.0</td>\n",
       "      <td>WOLCOTT</td>\n",
       "      <td>NaN</td>\n",
       "      <td>NEW HAVEN</td>\n",
       "      <td>WATERBURY</td>\n",
       "      <td>NaN</td>\n",
       "      <td>...</td>\n",
       "      <td>NaN</td>\n",
       "      <td>NaN</td>\n",
       "      <td>NaN</td>\n",
       "      <td>NaN</td>\n",
       "      <td>NaN</td>\n",
       "      <td>NaN</td>\n",
       "      <td>NaN</td>\n",
       "      <td>Accident</td>\n",
       "      <td>NaN</td>\n",
       "      <td>WATERBURY, CT\\n(41.554261, -73.043069)</td>\n",
       "    </tr>\n",
       "    <tr>\n",
       "      <td>2</td>\n",
       "      <td>14-2758</td>\n",
       "      <td>02/18/2014</td>\n",
       "      <td>Male</td>\n",
       "      <td>White</td>\n",
       "      <td>43.0</td>\n",
       "      <td>ENFIELD</td>\n",
       "      <td>NaN</td>\n",
       "      <td>NaN</td>\n",
       "      <td>ENFIELD</td>\n",
       "      <td>NaN</td>\n",
       "      <td>...</td>\n",
       "      <td>Y</td>\n",
       "      <td>NaN</td>\n",
       "      <td>NaN</td>\n",
       "      <td>NaN</td>\n",
       "      <td>NaN</td>\n",
       "      <td>NaN</td>\n",
       "      <td>NaN</td>\n",
       "      <td>Accident</td>\n",
       "      <td>NaN</td>\n",
       "      <td>ENFIELD, CT\\n(41.976501, -72.591985)</td>\n",
       "    </tr>\n",
       "    <tr>\n",
       "      <td>3</td>\n",
       "      <td>14-13497</td>\n",
       "      <td>09/07/2014</td>\n",
       "      <td>Female</td>\n",
       "      <td>White</td>\n",
       "      <td>24.0</td>\n",
       "      <td>WALLINGFORD</td>\n",
       "      <td>NaN</td>\n",
       "      <td>NaN</td>\n",
       "      <td>WALLINGFORD</td>\n",
       "      <td>NaN</td>\n",
       "      <td>...</td>\n",
       "      <td>NaN</td>\n",
       "      <td>NaN</td>\n",
       "      <td>NaN</td>\n",
       "      <td>NaN</td>\n",
       "      <td>NaN</td>\n",
       "      <td>NaN</td>\n",
       "      <td>NaN</td>\n",
       "      <td>Accident</td>\n",
       "      <td>NaN</td>\n",
       "      <td>WALLINGFORD, CT\\n(41.454408, -72.818414)</td>\n",
       "    </tr>\n",
       "    <tr>\n",
       "      <td>4</td>\n",
       "      <td>13-14421</td>\n",
       "      <td>10/04/2013</td>\n",
       "      <td>Female</td>\n",
       "      <td>White</td>\n",
       "      <td>26.0</td>\n",
       "      <td>WEST HAVEN</td>\n",
       "      <td>NaN</td>\n",
       "      <td>NEW HAVEN</td>\n",
       "      <td>WEST HAVEN</td>\n",
       "      <td>NaN</td>\n",
       "      <td>...</td>\n",
       "      <td>NaN</td>\n",
       "      <td>NaN</td>\n",
       "      <td>NaN</td>\n",
       "      <td>NaN</td>\n",
       "      <td>NaN</td>\n",
       "      <td>NaN</td>\n",
       "      <td>NaN</td>\n",
       "      <td>Accident</td>\n",
       "      <td>NaN</td>\n",
       "      <td>WEST HAVEN, CT\\n(41.272336, -72.949817)</td>\n",
       "    </tr>\n",
       "  </tbody>\n",
       "</table>\n",
       "<p>5 rows × 32 columns</p>\n",
       "</div>"
      ],
      "text/plain": [
       "  CaseNumber        Date     Sex   Race   Age Residence City Residence State  \\\n",
       "0   13-16336  11/09/2013  Female  White  53.0         GROTON             NaN   \n",
       "1   12-18447  12/29/2012    Male  White  30.0        WOLCOTT             NaN   \n",
       "2    14-2758  02/18/2014    Male  White  43.0        ENFIELD             NaN   \n",
       "3   14-13497  09/07/2014  Female  White  24.0    WALLINGFORD             NaN   \n",
       "4   13-14421  10/04/2013  Female  White  26.0     WEST HAVEN             NaN   \n",
       "\n",
       "  Residence County   Death City Death State  ... Benzodiazepine Methadone  \\\n",
       "0       NEW LONDON       GROTON         NaN  ...              Y       NaN   \n",
       "1        NEW HAVEN    WATERBURY         NaN  ...            NaN       NaN   \n",
       "2              NaN      ENFIELD         NaN  ...              Y       NaN   \n",
       "3              NaN  WALLINGFORD         NaN  ...            NaN       NaN   \n",
       "4        NEW HAVEN   WEST HAVEN         NaN  ...            NaN       NaN   \n",
       "\n",
       "  Amphet Tramad Morphine (not heroin) Other Any Opioid MannerofDeath  \\\n",
       "0    NaN    NaN                   NaN   NaN        NaN      Accident   \n",
       "1    NaN    NaN                   NaN   NaN        NaN      Accident   \n",
       "2    NaN    NaN                   NaN   NaN        NaN      Accident   \n",
       "3    NaN    NaN                   NaN   NaN        NaN      Accident   \n",
       "4    NaN    NaN                   NaN   NaN        NaN      Accident   \n",
       "\n",
       "  AmendedMannerofDeath                                  DeathLoc  \n",
       "0                  NaN        GROTON, CT\\n(41.343693, -72.07877)  \n",
       "1                  NaN    WATERBURY, CT\\n(41.554261, -73.043069)  \n",
       "2                  NaN      ENFIELD, CT\\n(41.976501, -72.591985)  \n",
       "3                  NaN  WALLINGFORD, CT\\n(41.454408, -72.818414)  \n",
       "4                  NaN   WEST HAVEN, CT\\n(41.272336, -72.949817)  \n",
       "\n",
       "[5 rows x 32 columns]"
      ]
     },
     "execution_count": 83,
     "metadata": {},
     "output_type": "execute_result"
    }
   ],
   "source": [
    "drug_df = pd.read_csv('drug_death.csv')\n",
    "drug_df.head()"
   ]
  },
  {
   "cell_type": "markdown",
   "metadata": {},
   "source": [
    "The data used to answer the above question is data concerning drug-related deaths in the Connecticut area. Opioid realted accidents were recorded and compiled into this data set from 2012 to 2017. It includes information about the victim including age, sex, and race. The data was collected by US coroners and medical professionals. However, the data was collected posthumously, so the accuracy of some of the data points can be questions, especially if age or race was estimated due to a lack of identification. "
   ]
  },
  {
   "cell_type": "markdown",
   "metadata": {},
   "source": [
    "# Data Analysis "
   ]
  },
  {
   "cell_type": "code",
   "execution_count": 84,
   "metadata": {},
   "outputs": [],
   "source": [
    "# Age Data\n",
    "sex_age = drug_df.loc[:,[\"Age\",\"Sex\"]]"
   ]
  },
  {
   "cell_type": "code",
   "execution_count": 85,
   "metadata": {},
   "outputs": [
    {
     "data": {
      "text/plain": [
       "[Text(0.5, 1.0, 'Sex of Drug Overdose Victims')]"
      ]
     },
     "execution_count": 85,
     "metadata": {},
     "output_type": "execute_result"
    },
    {
     "data": {
      "image/png": "[encoded data removed]",
      "text/plain": [
       "<Figure size 432x288 with 1 Axes>"
      ]
     },
     "metadata": {
      "needs_background": "light"
     },
     "output_type": "display_data"
    }
   ],
   "source": [
    "# Plotting\n",
    "\n",
    "bar_ax = sbn.countplot(x = \"Sex\", data=sex_age, order=[\"Male\", \"Female\"])\n",
    "bar_ax.set(title=\"Sex of Drug Overdose Victims\")"
   ]
  },
  {
   "cell_type": "markdown",
   "metadata": {},
   "source": [
    "# Figure 1\n",
    "## From the data, there seems to be a significant difference between genders of opiod deaths. Males disproportionally represent the majority of drug-related accidents as seen in the figure above. A reason for this is that men are less likely to see a medical professional during the initial reaction to a drug overdose. "
   ]
  },
  {
   "cell_type": "code",
   "execution_count": 86,
   "metadata": {},
   "outputs": [
    {
     "data": {
      "text/plain": [
       "[Text(0.5, 1.0, 'Ages of Drug Overdose Victims')]"
      ]
     },
     "execution_count": 86,
     "metadata": {},
     "output_type": "execute_result"
    },
    {
     "data": {
      "image/png": "[encoded data removed]",
      "text/plain": [
       "<Figure size 432x288 with 1 Axes>"
      ]
     },
     "metadata": {
      "needs_background": "light"
     },
     "output_type": "display_data"
    }
   ],
   "source": [
    "# Plotting\n",
    "fig, box_ax = plt.subplots(1,1)\n",
    "\n",
    "box_ax = sbn.boxplot(x=\"Sex\", y=\"Age\", data=sex_age, order=[\"Male\", \"Female\"])\n",
    "box_ax.set(title=\"Ages of Drug Overdose Victims\")"
   ]
  },
  {
   "cell_type": "markdown",
   "metadata": {},
   "source": [
    "# Figure 2\n",
    "## However, while more men are likely to die from overdoes, there does not seem to be a signficant difference in age. Women are slightly older, but the average seems relatively similiar. This reveals that a main factor in this crisis could be cultural in nature. "
   ]
  },
  {
   "cell_type": "code",
   "execution_count": 94,
   "metadata": {},
   "outputs": [
    {
     "data": {
      "text/plain": [
       "[Text(0.5, 1.0, 'Age Distribution of Overdose Victims')]"
      ]
     },
     "execution_count": 94,
     "metadata": {},
     "output_type": "execute_result"
    },
    {
     "data": {
      "image/png": "[encoded data removed]",
      "text/plain": [
       "<Figure size 432x288 with 1 Axes>"
      ]
     },
     "metadata": {
      "needs_background": "light"
     },
     "output_type": "display_data"
    }
   ],
   "source": [
    "# Plotting\n",
    "fig, hist_ax = plt.subplots(1,1)\n",
    "hist_ax = sbn.distplot(sex_age.loc[:,\"Age\"].dropna())\n",
    "hist_ax.set(title=\"Age Distribution of Overdose Victims\")"
   ]
  },
  {
   "cell_type": "markdown",
   "metadata": {},
   "source": [
    "# Figure 3\n",
    "## From the figure above, it can be seen that there are spikes in age at around 50 and around 30. This could suggest that a large population of overdose victims are people who overdose from perscribed painkillers as the older population are more likley to be perscribed them. This supports the idea that there is an over-perscribing problem for opioid-based drugs."
   ]
  }
 ],
 "metadata": {
  "kernelspec": {
   "display_name": "Python 3",
   "language": "python",
   "name": "python3"
  },
  "language_info": {
   "codemirror_mode": {
    "name": "ipython",
    "version": 3
   },
   "file_extension": ".py",
   "mimetype": "text/x-python",
   "name": "python",
   "nbconvert_exporter": "python",
   "pygments_lexer": "ipython3",
   "version": "3.6.1"
  }
 },
 "nbformat": 4,
 "nbformat_minor": 2
}
